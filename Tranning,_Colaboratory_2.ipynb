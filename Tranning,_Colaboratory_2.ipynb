{
  "nbformat": 4,
  "nbformat_minor": 0,
  "metadata": {
    "colab": {
      "name": "Hello, Colaboratory",
      "version": "0.3.2",
      "provenance": [],
      "collapsed_sections": [],
      "toc_visible": true,
      "include_colab_link": true
    },
    "kernelspec": {
      "display_name": "Python 3",
      "name": "python3"
    }
  },
  "cells": [
    {
      "cell_type": "markdown",
      "metadata": {
        "id": "view-in-github",
        "colab_type": "text"
      },
      "source": [
        "[View in Colaboratory](https://colab.research.google.com/github/BlueMoon55/jekyll_python/blob/gh-pages/Tranning,_Colaboratory_2.ipynb)"
      ]
    },
    {
      "metadata": {
        "id": "9J7p406abzgl",
        "colab_type": "text"
      },
      "cell_type": "markdown",
      "source": [
        "## Colaboratory へようこそ\n",
        "\n",
        "Colaboratory は、機械学習の教育や研究の促進を目的とした Google 研究プロジェクトです。完全にクラウドで実行される Jupyter ノートブック環境を特別な設定なしにご利用いただけます。\n",
        "\n",
        "Colaboratory ノートブックは [Google ドライブ](https://drive.google.com)に保存され、Google ドキュメントや Google スプレッドシートと同じように共有できます。Colaboratory の利用は無料です。\n",
        "\n",
        "詳細については、[よくある質問](https://research.google.com/colaboratory/faq.html)をご覧ください。"
      ]
    },
    {
      "metadata": {
        "id": "rTX3heEtu0b2",
        "colab_type": "text"
      },
      "cell_type": "markdown",
      "source": [
        "## ローカル ランタイムのサポート\n",
        "\n",
        "Colaboratory では、ローカルマシン上の Jupyter ランタイムへの接続もサポートしています。詳しくは、[ドキュメント](https://research.google.com/colaboratory/local-runtimes.html)をご覧ください。"
      ]
    },
    {
      "metadata": {
        "id": "8iU2gnJFItM1",
        "colab_type": "text"
      },
      "cell_type": "markdown",
      "source": [
        "## Python 3\n",
        "\n",
        "Colaboratory では、Python 2 と Python 3 の両方のコードの実行をサポートしています。\n",
        "\n",
        "* 新しいノートブックを作成するときに、Python 2 と Python 3 のいずれかを選択できます。\n",
        "* ノートブックに関連付けられている言語を変更することもできます。この情報は `.ipynb` ファイルに書き込まれるため、将来のセッションでも維持されます。"
      ]
    },
    {
      "metadata": {
        "id": "na0VvPXmYKp1",
        "colab_type": "code",
        "colab": {
          "height": 34
        },
        "outputId": "8fc2e3eb-f805-4d7a-c6a4-da9d8143603c"
      },
      "cell_type": "code",
      "source": [
        "import sys\n",
        "print('Hello, Colaboratory from Python {}!'.format(sys.version_info[0]))"
      ],
      "execution_count": 0,
      "outputs": [
        {
          "output_type": "stream",
          "text": [
            "Hello, Colaboratory from Python 3!\n"
          ],
          "name": "stdout"
        }
      ]
    },
    {
      "metadata": {
        "id": "9wi5kfGdhK0R",
        "colab_type": "text"
      },
      "cell_type": "markdown",
      "source": [
        "## TensorFlow の実行"
      ]
    },
    {
      "metadata": {
        "id": "S9GW-n-oYWIj",
        "colab_type": "text"
      },
      "cell_type": "markdown",
      "source": [
        "Colaboratory では、ワンクリックで TensorFlow のコードをブラウザ上で実行できます。以下の例は 2 つのマトリックスを追加します。\n",
        "\n",
        "$\\begin{bmatrix}\n",
        "  1. & 1. & 1. \\\\\n",
        "  1. & 1. & 1. \\\\\n",
        "\\end{bmatrix} +\n",
        "\\begin{bmatrix}\n",
        "  1. & 2. & 3. \\\\\n",
        "  4. & 5. & 6. \\\\\n",
        "\\end{bmatrix} =\n",
        "\\begin{bmatrix}\n",
        "  2. & 3. & 4. \\\\\n",
        "  5. & 6. & 7. \\\\\n",
        "\\end{bmatrix}$"
      ]
    },
    {
      "metadata": {
        "id": "mwdQ1INEZKkb",
        "colab_type": "code",
        "colab": {
          "base_uri": "https://localhost:8080/",
          "height": 51
        },
        "outputId": "f81c612c-9102-4dce-b70d-39c1672b7749"
      },
      "cell_type": "code",
      "source": [
        "import tensorflow as tf\n",
        "import numpy as np\n",
        "\n",
        "with tf.Session():\n",
        "  input1 = tf.constant(1.0, shape=[2, 3])\n",
        "  input2 = tf.constant(np.reshape(np.arange(1.0, 7.0, dtype=np.float32), (2, 3)))\n",
        "  output = tf.add(input1, input2)\n",
        "  result = output.eval()\n",
        "\n",
        "result"
      ],
      "execution_count": 0,
      "outputs": [
        {
          "output_type": "execute_result",
          "data": {
            "text/plain": [
              "array([[ 2.,  3.,  4.],\n",
              "       [ 5.,  6.,  7.]], dtype=float32)"
            ]
          },
          "metadata": {
            "tags": []
          },
          "execution_count": 0
        }
      ]
    },
    {
      "metadata": {
        "id": "yv2XIwi5hQ_g",
        "colab_type": "text"
      },
      "cell_type": "markdown",
      "source": [
        "## 視覚化"
      ]
    },
    {
      "metadata": {
        "id": "rYs5mx2JZkmy",
        "colab_type": "text"
      },
      "cell_type": "markdown",
      "source": [
        "Colaboratory には [matplotlib](https://matplotlib.org/) などの広く使用されているライブラリが含まれており、視覚化を簡単に行えます。"
      ]
    },
    {
      "metadata": {
        "id": "xqrc5C-IaA5J",
        "colab_type": "code",
        "colab": {
          "height": 360
        },
        "outputId": "3460cc84-faf8-4d8c-a4e6-96a6809c389a"
      },
      "cell_type": "code",
      "source": [
        "import matplotlib.pyplot as plt\n",
        "import numpy as np\n",
        "\n",
        "x = np.arange(20)\n",
        "y = [x_i + np.random.randn(1) for x_i in x]\n",
        "a, b = np.polyfit(x, y, 1)\n",
        "_ = plt.plot(x, y, 'o', np.arange(20), a*np.arange(20)+b, '-')"
      ],
      "execution_count": 0,
      "outputs": [
        {
          "output_type": "display_data",
          "data": {
            "image/png": "[encoded data removed]",
            "text/plain": [
              "<matplotlib.figure.Figure at 0x562d64cf1b10>"
            ]
          },
          "metadata": {
            "tags": []
          }
        }
      ]
    },
    {
      "metadata": {
        "id": "AN_LRQ9NkOjs",
        "colab_type": "text"
      },
      "cell_type": "markdown",
      "source": [
        "新しいライブラリを使用する必要がある場合は、`pip install` でインストールします。一般的に使用されているライブラリをインポートする方法については、[ライブラリのインポートのサンプル ノートブック](/notebooks/snippets/importing_libraries.ipynb)をご覧ください。"
      ]
    },
    {
      "metadata": {
        "id": "FlQq0SUepQbd",
        "colab_type": "code",
        "colab": {
          "base_uri": "https://localhost:8080/",
          "height": 349
        },
        "outputId": "6e404831-3336-4633-b76f-c6313ecdd356"
      },
      "cell_type": "code",
      "source": [
        "# Only needs to be run once at the top of the notebook.\n",
        "!pip install -q matplotlib-venn\n",
        "\n",
        "# Now the newly-installed library can be used anywhere else in the notebook.\n",
        "from matplotlib_venn import venn2\n",
        "_ = venn2(subsets = (3, 2, 1))"
      ],
      "execution_count": 0,
      "outputs": [
        {
          "output_type": "display_data",
          "data": {
            "image/png": "[encoded data removed]",
            "text/plain": [
              "<matplotlib.figure.Figure at 0x7f48ff99ff10>"
            ]
          },
          "metadata": {
            "tags": []
          }
        }
      ]
    },
    {
      "metadata": {
        "id": "LxZ3dPzYnyNF",
        "colab_type": "text"
      },
      "cell_type": "markdown",
      "source": [
        "# フォーム\n",
        "\n",
        "フォームを使用してコード内の値をパラメータ化できます。詳しくは、[フォームのサンプル ノートブック](/notebooks/forms.ipynb)をご覧ください。"
      ]
    },
    {
      "metadata": {
        "id": "FQ_Hx_9tn7uF",
        "colab_type": "code",
        "colab": {}
      },
      "cell_type": "code",
      "source": [
        "#@title Examples\n",
        "\n",
        "text = 'value' #@param \n",
        "date_input = '2018-03-22' #@param {type:\"date\"}\n",
        "number_slider = 0 #@param {type:\"slider\", min:-1, max:1, step:0.1}\n",
        "dropdown = '1st option' #@param [\"1st option\", \"2nd option\", \"3rd option\"]\n"
      ],
      "execution_count": 0,
      "outputs": []
    },
    {
      "metadata": {
        "id": "-Rh3-Vt9Nev9",
        "colab_type": "text"
      },
      "cell_type": "markdown",
      "source": [
        "# 詳細情報:\n",
        "- [Colaboratory の概要](/notebooks/basic_features_overview.ipynb)\n",
        "- [ライブラリのインポートと依存関係のインストール](/notebooks/snippets/importing_libraries.ipynb)\n",
        "- [マークダウンに関するガイド](/notebooks/markdown_guide.ipynb)\n",
        "- [グラフ](/notebooks/charts.ipynb)\n",
        "- [ウィジェット](/notebooks/widgets.ipynb)\n",
        "- [データの読み込みと保存: ローカル ファイル、Google ドライブ、Google スプレッドシート、Google Cloud Storage](/notebooks/io.ipynb)\n",
        "- [Google Cloud BigQuery のサンプル ノートブック](/notebooks/bigquery.ipynb)\n",
        "- [GPU を使用した TensorFlow](/notebooks/gpu.ipynb)\n",
        "- [フォーム](/notebooks/forms.ipynb)"
      ]
    },
    {
      "metadata": {
        "id": "J5hDBfyCQclb",
        "colab_type": "text"
      },
      "cell_type": "markdown",
      "source": [
        "# テスト用セクション"
      ]
    },
    {
      "metadata": {
        "id": "qUMPooGIRgDz",
        "colab_type": "code",
        "colab": {
          "base_uri": "https://localhost:8080/",
          "height": 190
        },
        "outputId": "46fda5ae-bcc1-4be7-8358-f285c26fded5"
      },
      "cell_type": "code",
      "source": [
        "!pip install janome"
      ],
      "execution_count": 0,
      "outputs": [
        {
          "output_type": "stream",
          "text": [
            "Collecting janome\n",
            "\u001b[?25l  Downloading https://files.pythonhosted.org/packages/b4/7b/6f4fa5243a235cd682693b448f05afacedb2b10fc2efea3369d6336ab83b/Janome-0.3.6.tar.gz (20.0MB)\n",
            "\u001b[K    100% |████████████████████████████████| 20.0MB 1.4MB/s \n",
            "\u001b[?25hBuilding wheels for collected packages: janome\n",
            "  Running setup.py bdist_wheel for janome ... \u001b[?25l-\b \b\\\b \b|\b \b/\b \b-\b \b\\\b \b|\b \b/\b \b-\b \b\\\b \b|\b \b/\b \b-\b \b\\\b \b|\b \b/\b \b-\b \b\\\b \b|\b \b/\b \b-\b \b\\\b \b|\b \b/\b \b-\b \b\\\b \b|\b \b/\b \b-\b \b\\\b \b|\b \b/\b \b-\b \bdone\n",
            "\u001b[?25h  Stored in directory: /content/.cache/pip/wheels/53/60/be/fe884e2d0ebc9fec0988736cf08a2820ab34e3569fc0c5a25a\n",
            "Successfully built janome\n",
            "Installing collected packages: janome\n",
            "Successfully installed janome-0.3.6\n"
          ],
          "name": "stdout"
        }
      ]
    },
    {
      "metadata": {
        "id": "ZmUaIxf_RDbD",
        "colab_type": "code",
        "colab": {
          "base_uri": "https://localhost:8080/",
          "height": 68
        },
        "outputId": "85799afd-982c-4d3d-b720-6c4dc5e4d6d9"
      },
      "cell_type": "code",
      "source": [
        "from janome.tokenizer import Tokenizer # janome.tokenizerをインポート\n",
        "import re, pprint                      # reとpprintモジュールをインポート\n",
        "\n",
        "''' 形態素解析を行う\n",
        "    text   :解析対象の文章\n",
        "    戻り値 :見出しと品詞のペアを格納した多重リスト\n",
        "'''    \n",
        "def analyze(text):\n",
        "    t = Tokenizer()                 # Tokenizerオブジェクトを生成\n",
        "    tokens = t.tokenize(text)       # 形態素解析を実行\n",
        "    result = []                     # 形態素と品詞を格納するリスト\n",
        "    \n",
        "    for token in tokens:            # リストからTokenオブジェクトを1つずつ取り出す\n",
        "        result.append(              # 形態素と品詞情報をリストにしてresultに追加\n",
        "            [token.surface,         # 形態素を取得\n",
        "             token.part_of_speech]) # 品詞情報を取得\n",
        "    return(result)                  # 解析結果の多重リストを返す\n",
        "\n",
        "\n",
        "'''\n",
        "品詞が名詞であるかを調べる関数\n",
        "\n",
        "part   :形態素解析の品詞の部分\n",
        "戻り値 :名詞であればTrue、そうでなければFalse\n",
        "\n",
        "'''\n",
        "def keyword_check(part):\n",
        "    return re.match(                # 名詞であればTrue、それ以外ばFalseを返す\n",
        "        '名詞,(一般|固有名詞|サ変接続|形容動詞語幹)',\n",
        "        part\n",
        "        )\n",
        "\n",
        "#=================================================\n",
        "# プログラムの起点\n",
        "#=================================================\n",
        "if __name__  == '__main__':\n",
        "\n",
        "    print('文章を入力')\n",
        "    S_input = input()                  # 文章を取得\n",
        "    pprint.pprint(analyze(S_input))    # 入力された文章を解析\n"
      ],
      "execution_count": 0,
      "outputs": [
        {
          "output_type": "stream",
          "text": [
            "文章を入力\n",
            "テストです。\n",
            "[['テスト', '名詞,サ変接続,*,*'], ['です', '助動詞,*,*,*'], ['。', '記号,句点,*,*']]\n"
          ],
          "name": "stdout"
        }
      ]
    },
    {
      "metadata": {
        "id": "Z11MA0FlQlR5",
        "colab_type": "code",
        "colab": {
          "base_uri": "https://localhost:8080/",
          "height": 389
        },
        "outputId": "3c008000-25e0-47a6-d8c1-431140f4d370"
      },
      "cell_type": "code",
      "source": [
        "# from analyzer import *              # analyzerモジュールをインポート\n",
        "# import analyzer\n",
        "import os\n",
        "\n",
        "def make_freq(file):\n",
        "    \"\"\"テキストファイルを読み込んで形態素解析結果を返す\n",
        "       戻り値 : 解析結果を格納した多重リスト\n",
        "    \"\"\"\n",
        "    print('テキストを読み込んでいます...')\n",
        "\n",
        "    with open(file,                 # ファイル名を指定\n",
        "              'r',                  # 読み取り専用で開く\n",
        "              encoding = 'utf_8'    # エンコード方式を指定\n",
        "              ) as f: \n",
        "        text = f.read()             # 全データをtextに格納\n",
        "    text = re.sub('\\n', '', text)   # 文末の改行文字を取り除く\n",
        "    \n",
        "    word_dic = {}                   # 語を保持するリスト\n",
        "\n",
        "    analyze_list = analyze(text)    # 形態素解析の結果をリストとして取得\n",
        "\n",
        "    for word, part in analyze_list: # 多重リストの要素を2つのパラメーターに取り出す    \n",
        "        if (keyword_check(part)):   # keyword_check()関数の戻り値がTrueの場合\n",
        "            if word in word_dic:    # 辞書に語と同じキーがあるか\n",
        "                word_dic[word] += 1 # キーの値に1加算\n",
        "            else:                   # 該当するキーがなければ\n",
        "                 word_dic[word] = 1 # 単語をキーにして値を1にする\n",
        "    return(word_dic)                # 頻度表としての辞書を返す\n",
        "\n",
        "def show(word_dic):\n",
        "    \"\"\"頻度表を出力する    \n",
        "    \"\"\"\n",
        "    out_file_name = 'freq_'+file_name+'.txt'\n",
        "    file = open(out_file_name, 'w', encoding = 'utf_8')\n",
        "    for word in sorted(\n",
        "        word_dic,                  # 対象の辞書\n",
        "        key = word_dic.get,        # 並べ替えの基準(key)を辞書の値にする\n",
        "        reverse = True             # 降順で並べ替え\n",
        "        ):                        \n",
        "      print(                       # キー(単語)と値(頻度)を出力\n",
        "          word + '(' + str(word_dic[word]) + ')'\n",
        "          )\n",
        "      file.write(word + ',' + str(word_dic[word]) + '\\n')\n",
        "    file.close()\n",
        "#=================================================\n",
        "# プログラムの起点\n",
        "#=====中小企業における.txt============================================\n",
        "if __name__  == '__main__':\n",
        "    print('カレントDIR: '+os.getcwd())\n",
        "    file_name = input('ファイル名を入力してください>>>')\n",
        "    freq = make_freq(file_name)   # 頻度表を取得する\n",
        "    show(freq)                    # 画面表示\n"
      ],
      "execution_count": 0,
      "outputs": [
        {
          "output_type": "stream",
          "text": [
            "カレントDIR: /content\n",
            "ファイル名を入力してください>>>aa\n",
            "テキストを読み込んでいます...\n"
          ],
          "name": "stdout"
        },
        {
          "output_type": "error",
          "ename": "FileNotFoundError",
          "evalue": "ignored",
          "traceback": [
            "\u001b[0;31m---------------------------------------------------------------------------\u001b[0m",
            "\u001b[0;31mFileNotFoundError\u001b[0m                         Traceback (most recent call last)",
            "\u001b[0;32m<ipython-input-11-060c58e6de8c>\u001b[0m in \u001b[0;36m<module>\u001b[0;34m()\u001b[0m\n\u001b[1;32m     47\u001b[0m     \u001b[0mprint\u001b[0m\u001b[0;34m(\u001b[0m\u001b[0;34m'カレントDIR: '\u001b[0m\u001b[0;34m+\u001b[0m\u001b[0mos\u001b[0m\u001b[0;34m.\u001b[0m\u001b[0mgetcwd\u001b[0m\u001b[0;34m(\u001b[0m\u001b[0;34m)\u001b[0m\u001b[0;34m)\u001b[0m\u001b[0;34m\u001b[0m\u001b[0m\n\u001b[1;32m     48\u001b[0m     \u001b[0mfile_name\u001b[0m \u001b[0;34m=\u001b[0m \u001b[0minput\u001b[0m\u001b[0;34m(\u001b[0m\u001b[0;34m'ファイル名を入力してください>>>'\u001b[0m\u001b[0;34m)\u001b[0m\u001b[0;34m\u001b[0m\u001b[0m\n\u001b[0;32m---> 49\u001b[0;31m     \u001b[0mfreq\u001b[0m \u001b[0;34m=\u001b[0m \u001b[0mmake_freq\u001b[0m\u001b[0;34m(\u001b[0m\u001b[0mfile_name\u001b[0m\u001b[0;34m)\u001b[0m   \u001b[0;31m# 頻度表を取得する\u001b[0m\u001b[0;34m\u001b[0m\u001b[0m\n\u001b[0m\u001b[1;32m     50\u001b[0m     \u001b[0mshow\u001b[0m\u001b[0;34m(\u001b[0m\u001b[0mfreq\u001b[0m\u001b[0;34m)\u001b[0m                    \u001b[0;31m# 画面表示\u001b[0m\u001b[0;34m\u001b[0m\u001b[0m\n",
            "\u001b[0;32m<ipython-input-11-060c58e6de8c>\u001b[0m in \u001b[0;36mmake_freq\u001b[0;34m(file)\u001b[0m\n\u001b[1;32m      9\u001b[0m     with open(file,                 # ファイル名を指定\n\u001b[1;32m     10\u001b[0m               \u001b[0;34m'r'\u001b[0m\u001b[0;34m,\u001b[0m                  \u001b[0;31m# 読み取り専用で開く\u001b[0m\u001b[0;34m\u001b[0m\u001b[0m\n\u001b[0;32m---> 11\u001b[0;31m               \u001b[0mencoding\u001b[0m \u001b[0;34m=\u001b[0m \u001b[0;34m'utf_8'\u001b[0m    \u001b[0;31m# エンコード方式を指定\u001b[0m\u001b[0;34m\u001b[0m\u001b[0m\n\u001b[0m\u001b[1;32m     12\u001b[0m               ) as f: \n\u001b[1;32m     13\u001b[0m         \u001b[0mtext\u001b[0m \u001b[0;34m=\u001b[0m \u001b[0mf\u001b[0m\u001b[0;34m.\u001b[0m\u001b[0mread\u001b[0m\u001b[0;34m(\u001b[0m\u001b[0;34m)\u001b[0m             \u001b[0;31m# 全データをtextに格納\u001b[0m\u001b[0;34m\u001b[0m\u001b[0m\n",
            "\u001b[0;31mFileNotFoundError\u001b[0m: [Errno 2] No such file or directory: 'aa'"
          ]
        }
      ]
    },
    {
      "metadata": {
        "id": "TgVsHSYjeXTi",
        "colab_type": "text"
      },
      "cell_type": "markdown",
      "source": [
        ""
      ]
    },
    {
      "metadata": {
        "id": "r7jq7s_QeX5j",
        "colab_type": "text"
      },
      "cell_type": "markdown",
      "source": [
        "# トレーニング"
      ]
    },
    {
      "metadata": {
        "id": "nU8AVrZ3ew59",
        "colab_type": "text"
      },
      "cell_type": "markdown",
      "source": [
        "08-02"
      ]
    },
    {
      "metadata": {
        "id": "6sVFK73wecXS",
        "colab_type": "code",
        "colab": {
          "base_uri": "https://localhost:8080/",
          "height": 105
        },
        "outputId": "ce520d47-1511-4f08-bdcd-1983472d49cc"
      },
      "cell_type": "code",
      "source": [
        "import requests\n",
        "url = 'http://weather.livedoor.com/forecast/webservice/json/v1'\n",
        "payload = { 'city': '130010' }#①\n",
        "weather_data = requests.get(url, params=payload).json()#②\n",
        "for weather in weather_data['forecasts']:#③\n",
        "    print(\n",
        "        weather['dateLabel']\n",
        "        + 'の天気は'\n",
        "        + weather['telop']\n",
        "    )\n",
        "print (weather_data)"
      ],
      "execution_count": 0,
      "outputs": [
        {
          "output_type": "stream",
          "text": [
            "今日の天気は晴時々曇\n",
            "明日の天気は晴時々曇\n",
            "明後日の天気は曇時々晴\n",
            "{'pinpointLocations': [{'link': 'http://weather.livedoor.com/area/forecast/1310100', 'name': '千代田区'}, {'link': 'http://weather.livedoor.com/area/forecast/1310200', 'name': '中央区'}, {'link': 'http://weather.livedoor.com/area/forecast/1310300', 'name': '港区'}, {'link': 'http://weather.livedoor.com/area/forecast/1310400', 'name': '新宿区'}, {'link': 'http://weather.livedoor.com/area/forecast/1310500', 'name': '文京区'}, {'link': 'http://weather.livedoor.com/area/forecast/1310600', 'name': '台東区'}, {'link': 'http://weather.livedoor.com/area/forecast/1310700', 'name': '墨田区'}, {'link': 'http://weather.livedoor.com/area/forecast/1310800', 'name': '江東区'}, {'link': 'http://weather.livedoor.com/area/forecast/1310900', 'name': '品川区'}, {'link': 'http://weather.livedoor.com/area/forecast/1311000', 'name': '目黒区'}, {'link': 'http://weather.livedoor.com/area/forecast/1311100', 'name': '大田区'}, {'link': 'http://weather.livedoor.com/area/forecast/1311200', 'name': '世田谷区'}, {'link': 'http://weather.livedoor.com/area/forecast/1311300', 'name': '渋谷区'}, {'link': 'http://weather.livedoor.com/area/forecast/1311400', 'name': '中野区'}, {'link': 'http://weather.livedoor.com/area/forecast/1311500', 'name': '杉並区'}, {'link': 'http://weather.livedoor.com/area/forecast/1311600', 'name': '豊島区'}, {'link': 'http://weather.livedoor.com/area/forecast/1311700', 'name': '北区'}, {'link': 'http://weather.livedoor.com/area/forecast/1311800', 'name': '荒川区'}, {'link': 'http://weather.livedoor.com/area/forecast/1311900', 'name': '板橋区'}, {'link': 'http://weather.livedoor.com/area/forecast/1312000', 'name': '練馬区'}, {'link': 'http://weather.livedoor.com/area/forecast/1312100', 'name': '足立区'}, {'link': 'http://weather.livedoor.com/area/forecast/1312200', 'name': '葛飾区'}, {'link': 'http://weather.livedoor.com/area/forecast/1312300', 'name': '江戸川区'}, {'link': 'http://weather.livedoor.com/area/forecast/1320100', 'name': '八王子市'}, {'link': 'http://weather.livedoor.com/area/forecast/1320200', 'name': '立川市'}, {'link': 'http://weather.livedoor.com/area/forecast/1320300', 'name': '武蔵野市'}, {'link': 'http://weather.livedoor.com/area/forecast/1320400', 'name': '三鷹市'}, {'link': 'http://weather.livedoor.com/area/forecast/1320500', 'name': '青梅市'}, {'link': 'http://weather.livedoor.com/area/forecast/1320600', 'name': '府中市'}, {'link': 'http://weather.livedoor.com/area/forecast/1320700', 'name': '昭島市'}, {'link': 'http://weather.livedoor.com/area/forecast/1320800', 'name': '調布市'}, {'link': 'http://weather.livedoor.com/area/forecast/1320900', 'name': '町田市'}, {'link': 'http://weather.livedoor.com/area/forecast/1321000', 'name': '小金井市'}, {'link': 'http://weather.livedoor.com/area/forecast/1321100', 'name': '小平市'}, {'link': 'http://weather.livedoor.com/area/forecast/1321200', 'name': '日野市'}, {'link': 'http://weather.livedoor.com/area/forecast/1321300', 'name': '東村山市'}, {'link': 'http://weather.livedoor.com/area/forecast/1321400', 'name': '国分寺市'}, {'link': 'http://weather.livedoor.com/area/forecast/1321500', 'name': '国立市'}, {'link': 'http://weather.livedoor.com/area/forecast/1321800', 'name': '福生市'}, {'link': 'http://weather.livedoor.com/area/forecast/1321900', 'name': '狛江市'}, {'link': 'http://weather.livedoor.com/area/forecast/1322000', 'name': '東大和市'}, {'link': 'http://weather.livedoor.com/area/forecast/1322100', 'name': '清瀬市'}, {'link': 'http://weather.livedoor.com/area/forecast/1322200', 'name': '東久留米市'}, {'link': 'http://weather.livedoor.com/area/forecast/1322300', 'name': '武蔵村山市'}, {'link': 'http://weather.livedoor.com/area/forecast/1322400', 'name': '多摩市'}, {'link': 'http://weather.livedoor.com/area/forecast/1322500', 'name': '稲城市'}, {'link': 'http://weather.livedoor.com/area/forecast/1322700', 'name': '羽村市'}, {'link': 'http://weather.livedoor.com/area/forecast/1322800', 'name': 'あきる野市'}, {'link': 'http://weather.livedoor.com/area/forecast/1322900', 'name': '西東京市'}, {'link': 'http://weather.livedoor.com/area/forecast/1330300', 'name': '瑞穂町'}, {'link': 'http://weather.livedoor.com/area/forecast/1330500', 'name': '日の出町'}, {'link': 'http://weather.livedoor.com/area/forecast/1330700', 'name': '檜原村'}, {'link': 'http://weather.livedoor.com/area/forecast/1330800', 'name': '奥多摩町'}], 'link': 'http://weather.livedoor.com/area/forecast/130010', 'forecasts': [{'dateLabel': '今日', 'telop': '晴時々曇', 'date': '2018-08-02', 'temperature': {'min': None, 'max': {'celsius': '36', 'fahrenheit': '96.8'}}, 'image': {'width': 50, 'url': 'http://weather.livedoor.com/img/icon/2.gif', 'title': '晴時々曇', 'height': 31}}, {'dateLabel': '明日', 'telop': '晴時々曇', 'date': '2018-08-03', 'temperature': {'min': {'celsius': '26', 'fahrenheit': '78.8'}, 'max': {'celsius': '35', 'fahrenheit': '95.0'}}, 'image': {'width': 50, 'url': 'http://weather.livedoor.com/img/icon/2.gif', 'title': '晴時々曇', 'height': 31}}, {'dateLabel': '明後日', 'telop': '曇時々晴', 'date': '2018-08-04', 'temperature': {'min': None, 'max': None}, 'image': {'width': 50, 'url': 'http://weather.livedoor.com/img/icon/9.gif', 'title': '曇時々晴', 'height': 31}}], 'location': {'city': '東京', 'area': '関東', 'prefecture': '東京都'}, 'publicTime': '2018-08-02T11:00:00+0900', 'copyright': {'provider': [{'link': 'http://tenki.jp/', 'name': '日本気象協会'}], 'link': 'http://weather.livedoor.com/', 'title': '(C) LINE Corporation', 'image': {'width': 118, 'link': 'http://weather.livedoor.com/', 'url': 'http://weather.livedoor.com/img/cmn/livedoor.gif', 'title': 'livedoor 天気情報', 'height': 26}}, 'title': '東京都 東京 の天気', 'description': {'text': ' 本州付近は高気圧に覆われています。\\n\\n【関東甲信地方】\\n 関東甲信地方は、おおむね晴れとなっています。\\n\\n 2日から3日にかけては、高気圧に覆われておおむね晴れますが、午後は\\n大気の状態が不安定となるため、雨や雷雨となり、激しく降る所がある見込\\nみです。\\n\\n 関東近海では、3日にかけて波がやや高く、2日はうねりを伴う所がある\\nでしょう。\\n\\n【東京地方】\\n 2日は、晴れ時々曇りで、午後は雨の降る所があるでしょう。多摩西部で\\nは夕方から夜のはじめ頃にかけて雷を伴い激しく降る所がある見込みです。\\n 3日は、晴れ時々曇りで、多摩西部では昼過ぎから夕方にかけて雨の降る\\n所があるでしょう。\\n 東京都では3日にかけて高温が予想され、熱中症の危険が特に高くなる見\\n込みです。暑さを避け、水分をこまめに補給するなど、十分な対策をとって\\nください。', 'publicTime': '2018-08-02T10:35:00+0900'}}\n"
          ],
          "name": "stdout"
        }
      ]
    },
    {
      "metadata": {
        "id": "8NE9q0Tx1vUl",
        "colab_type": "text"
      },
      "cell_type": "markdown",
      "source": [
        "Weather Hack JSON"
      ]
    },
    {
      "metadata": {
        "id": "REwejJJK12e8",
        "colab_type": "code",
        "colab": {
          "base_uri": "https://localhost:8080/",
          "height": 2890
        },
        "outputId": "1b704906-336c-4bb7-ea72-9893b00f4473"
      },
      "cell_type": "code",
      "source": [
        "import requests\n",
        "import pprint\n",
        "url = 'http://weather.livedoor.com/forecast/webservice/json/v1'\n",
        "payload = { 'city': '130010' }#①\n",
        "weather_data = requests.get(url, params=payload).json()#②\n",
        "for weather in weather_data['forecasts']:#③\n",
        "    print(\n",
        "        weather['dateLabel']\n",
        "        + 'の天気は'\n",
        "        + weather['telop']\n",
        "    )\n",
        "pprint.pprint (weather_data)\n"
      ],
      "execution_count": 0,
      "outputs": [
        {
          "output_type": "stream",
          "text": [
            "今日の天気は晴時々曇\n",
            "明日の天気は晴時々曇\n",
            "明後日の天気は曇時々晴\n",
            "{'copyright': {'image': {'height': 26,\n",
            "                         'link': 'http://weather.livedoor.com/',\n",
            "                         'title': 'livedoor 天気情報',\n",
            "                         'url': 'http://weather.livedoor.com/img/cmn/livedoor.gif',\n",
            "                         'width': 118},\n",
            "               'link': 'http://weather.livedoor.com/',\n",
            "               'provider': [{'link': 'http://tenki.jp/', 'name': '日本気象協会'}],\n",
            "               'title': '(C) LINE Corporation'},\n",
            " 'description': {'publicTime': '2018-08-02T10:35:00+0900',\n",
            "                 'text': ' 本州付近は高気圧に覆われています。\\n'\n",
            "                         '\\n'\n",
            "                         '【関東甲信地方】\\n'\n",
            "                         ' 関東甲信地方は、おおむね晴れとなっています。\\n'\n",
            "                         '\\n'\n",
            "                         ' 2日から3日にかけては、高気圧に覆われておおむね晴れますが、午後は\\n'\n",
            "                         '大気の状態が不安定となるため、雨や雷雨となり、激しく降る所がある見込\\n'\n",
            "                         'みです。\\n'\n",
            "                         '\\n'\n",
            "                         ' 関東近海では、3日にかけて波がやや高く、2日はうねりを伴う所がある\\n'\n",
            "                         'でしょう。\\n'\n",
            "                         '\\n'\n",
            "                         '【東京地方】\\n'\n",
            "                         ' 2日は、晴れ時々曇りで、午後は雨の降る所があるでしょう。多摩西部で\\n'\n",
            "                         'は夕方から夜のはじめ頃にかけて雷を伴い激しく降る所がある見込みです。\\n'\n",
            "                         ' 3日は、晴れ時々曇りで、多摩西部では昼過ぎから夕方にかけて雨の降る\\n'\n",
            "                         '所があるでしょう。\\n'\n",
            "                         ' 東京都では3日にかけて高温が予想され、熱中症の危険が特に高くなる見\\n'\n",
            "                         '込みです。暑さを避け、水分をこまめに補給するなど、十分な対策をとって\\n'\n",
            "                         'ください。'},\n",
            " 'forecasts': [{'date': '2018-08-02',\n",
            "                'dateLabel': '今日',\n",
            "                'image': {'height': 31,\n",
            "                          'title': '晴時々曇',\n",
            "                          'url': 'http://weather.livedoor.com/img/icon/2.gif',\n",
            "                          'width': 50},\n",
            "                'telop': '晴時々曇',\n",
            "                'temperature': {'max': {'celsius': '36', 'fahrenheit': '96.8'},\n",
            "                                'min': None}},\n",
            "               {'date': '2018-08-03',\n",
            "                'dateLabel': '明日',\n",
            "                'image': {'height': 31,\n",
            "                          'title': '晴時々曇',\n",
            "                          'url': 'http://weather.livedoor.com/img/icon/2.gif',\n",
            "                          'width': 50},\n",
            "                'telop': '晴時々曇',\n",
            "                'temperature': {'max': {'celsius': '35', 'fahrenheit': '95.0'},\n",
            "                                'min': {'celsius': '26',\n",
            "                                        'fahrenheit': '78.8'}}},\n",
            "               {'date': '2018-08-04',\n",
            "                'dateLabel': '明後日',\n",
            "                'image': {'height': 31,\n",
            "                          'title': '曇時々晴',\n",
            "                          'url': 'http://weather.livedoor.com/img/icon/9.gif',\n",
            "                          'width': 50},\n",
            "                'telop': '曇時々晴',\n",
            "                'temperature': {'max': None, 'min': None}}],\n",
            " 'link': 'http://weather.livedoor.com/area/forecast/130010',\n",
            " 'location': {'area': '関東', 'city': '東京', 'prefecture': '東京都'},\n",
            " 'pinpointLocations': [{'link': 'http://weather.livedoor.com/area/forecast/1310100',\n",
            "                        'name': '千代田区'},\n",
            "                       {'link': 'http://weather.livedoor.com/area/forecast/1310200',\n",
            "                        'name': '中央区'},\n",
            "                       {'link': 'http://weather.livedoor.com/area/forecast/1310300',\n",
            "                        'name': '港区'},\n",
            "                       {'link': 'http://weather.livedoor.com/area/forecast/1310400',\n",
            "                        'name': '新宿区'},\n",
            "                       {'link': 'http://weather.livedoor.com/area/forecast/1310500',\n",
            "                        'name': '文京区'},\n",
            "                       {'link': 'http://weather.livedoor.com/area/forecast/1310600',\n",
            "                        'name': '台東区'},\n",
            "                       {'link': 'http://weather.livedoor.com/area/forecast/1310700',\n",
            "                        'name': '墨田区'},\n",
            "                       {'link': 'http://weather.livedoor.com/area/forecast/1310800',\n",
            "                        'name': '江東区'},\n",
            "                       {'link': 'http://weather.livedoor.com/area/forecast/1310900',\n",
            "                        'name': '品川区'},\n",
            "                       {'link': 'http://weather.livedoor.com/area/forecast/1311000',\n",
            "                        'name': '目黒区'},\n",
            "                       {'link': 'http://weather.livedoor.com/area/forecast/1311100',\n",
            "                        'name': '大田区'},\n",
            "                       {'link': 'http://weather.livedoor.com/area/forecast/1311200',\n",
            "                        'name': '世田谷区'},\n",
            "                       {'link': 'http://weather.livedoor.com/area/forecast/1311300',\n",
            "                        'name': '渋谷区'},\n",
            "                       {'link': 'http://weather.livedoor.com/area/forecast/1311400',\n",
            "                        'name': '中野区'},\n",
            "                       {'link': 'http://weather.livedoor.com/area/forecast/1311500',\n",
            "                        'name': '杉並区'},\n",
            "                       {'link': 'http://weather.livedoor.com/area/forecast/1311600',\n",
            "                        'name': '豊島区'},\n",
            "                       {'link': 'http://weather.livedoor.com/area/forecast/1311700',\n",
            "                        'name': '北区'},\n",
            "                       {'link': 'http://weather.livedoor.com/area/forecast/1311800',\n",
            "                        'name': '荒川区'},\n",
            "                       {'link': 'http://weather.livedoor.com/area/forecast/1311900',\n",
            "                        'name': '板橋区'},\n",
            "                       {'link': 'http://weather.livedoor.com/area/forecast/1312000',\n",
            "                        'name': '練馬区'},\n",
            "                       {'link': 'http://weather.livedoor.com/area/forecast/1312100',\n",
            "                        'name': '足立区'},\n",
            "                       {'link': 'http://weather.livedoor.com/area/forecast/1312200',\n",
            "                        'name': '葛飾区'},\n",
            "                       {'link': 'http://weather.livedoor.com/area/forecast/1312300',\n",
            "                        'name': '江戸川区'},\n",
            "                       {'link': 'http://weather.livedoor.com/area/forecast/1320100',\n",
            "                        'name': '八王子市'},\n",
            "                       {'link': 'http://weather.livedoor.com/area/forecast/1320200',\n",
            "                        'name': '立川市'},\n",
            "                       {'link': 'http://weather.livedoor.com/area/forecast/1320300',\n",
            "                        'name': '武蔵野市'},\n",
            "                       {'link': 'http://weather.livedoor.com/area/forecast/1320400',\n",
            "                        'name': '三鷹市'},\n",
            "                       {'link': 'http://weather.livedoor.com/area/forecast/1320500',\n",
            "                        'name': '青梅市'},\n",
            "                       {'link': 'http://weather.livedoor.com/area/forecast/1320600',\n",
            "                        'name': '府中市'},\n",
            "                       {'link': 'http://weather.livedoor.com/area/forecast/1320700',\n",
            "                        'name': '昭島市'},\n",
            "                       {'link': 'http://weather.livedoor.com/area/forecast/1320800',\n",
            "                        'name': '調布市'},\n",
            "                       {'link': 'http://weather.livedoor.com/area/forecast/1320900',\n",
            "                        'name': '町田市'},\n",
            "                       {'link': 'http://weather.livedoor.com/area/forecast/1321000',\n",
            "                        'name': '小金井市'},\n",
            "                       {'link': 'http://weather.livedoor.com/area/forecast/1321100',\n",
            "                        'name': '小平市'},\n",
            "                       {'link': 'http://weather.livedoor.com/area/forecast/1321200',\n",
            "                        'name': '日野市'},\n",
            "                       {'link': 'http://weather.livedoor.com/area/forecast/1321300',\n",
            "                        'name': '東村山市'},\n",
            "                       {'link': 'http://weather.livedoor.com/area/forecast/1321400',\n",
            "                        'name': '国分寺市'},\n",
            "                       {'link': 'http://weather.livedoor.com/area/forecast/1321500',\n",
            "                        'name': '国立市'},\n",
            "                       {'link': 'http://weather.livedoor.com/area/forecast/1321800',\n",
            "                        'name': '福生市'},\n",
            "                       {'link': 'http://weather.livedoor.com/area/forecast/1321900',\n",
            "                        'name': '狛江市'},\n",
            "                       {'link': 'http://weather.livedoor.com/area/forecast/1322000',\n",
            "                        'name': '東大和市'},\n",
            "                       {'link': 'http://weather.livedoor.com/area/forecast/1322100',\n",
            "                        'name': '清瀬市'},\n",
            "                       {'link': 'http://weather.livedoor.com/area/forecast/1322200',\n",
            "                        'name': '東久留米市'},\n",
            "                       {'link': 'http://weather.livedoor.com/area/forecast/1322300',\n",
            "                        'name': '武蔵村山市'},\n",
            "                       {'link': 'http://weather.livedoor.com/area/forecast/1322400',\n",
            "                        'name': '多摩市'},\n",
            "                       {'link': 'http://weather.livedoor.com/area/forecast/1322500',\n",
            "                        'name': '稲城市'},\n",
            "                       {'link': 'http://weather.livedoor.com/area/forecast/1322700',\n",
            "                        'name': '羽村市'},\n",
            "                       {'link': 'http://weather.livedoor.com/area/forecast/1322800',\n",
            "                        'name': 'あきる野市'},\n",
            "                       {'link': 'http://weather.livedoor.com/area/forecast/1322900',\n",
            "                        'name': '西東京市'},\n",
            "                       {'link': 'http://weather.livedoor.com/area/forecast/1330300',\n",
            "                        'name': '瑞穂町'},\n",
            "                       {'link': 'http://weather.livedoor.com/area/forecast/1330500',\n",
            "                        'name': '日の出町'},\n",
            "                       {'link': 'http://weather.livedoor.com/area/forecast/1330700',\n",
            "                        'name': '檜原村'},\n",
            "                       {'link': 'http://weather.livedoor.com/area/forecast/1330800',\n",
            "                        'name': '奥多摩町'}],\n",
            " 'publicTime': '2018-08-02T11:00:00+0900',\n",
            " 'title': '東京都 東京 の天気'}\n"
          ],
          "name": "stdout"
        }
      ]
    },
    {
      "metadata": {
        "id": "L-qihe6te5RL",
        "colab_type": "text"
      },
      "cell_type": "markdown",
      "source": [
        "08-03"
      ]
    },
    {
      "metadata": {
        "id": "iq-LSjxBe75T",
        "colab_type": "code",
        "colab": {
          "base_uri": "https://localhost:8080/",
          "height": 7109
        },
        "outputId": "261cd5b4-b7f8-4edc-a07a-6cc4448e56d3"
      },
      "cell_type": "code",
      "source": [
        "import requests\n",
        "rq = requests.get('http://www.metro.tokyo.jp')\n",
        "print (rq.status_code)\n",
        "print (rq.headers)\n",
        "print (rq.encoding)\n",
        "print (rq.text)"
      ],
      "execution_count": 0,
      "outputs": [
        {
          "output_type": "stream",
          "text": [
            "200\n",
            "{'Date': 'Thu, 02 Aug 2018 02:57:58 GMT', 'Last-Modified': 'Thu, 02 Aug 2018 00:04:34 GMT', 'ETag': '\"fe4357-48be-572688e5a4880\"', 'Accept-Ranges': 'bytes', 'Content-Length': '18622', 'Content-Type': 'text/html', 'X-Pad': 'avoid browser bug', 'Via': '1.1 ID-0002262070470144 uproxy-2', 'X-Frame-Options': 'SAMEORIGIN'}\n",
            "ISO-8859-1\n",
            "<!DOCTYPE HTML PUBLIC \"-//W3C//DTD HTML 4.01 Transitional//EN\" \"http://www.w3.org/TR/html4/loose.dtd\">\n",
            "<html lang=\"ja\">\n",
            "<head>\n",
            "<meta http-equiv=\"Content-Type\" content=\"text/html; charset=utf-8\">\n",
            "<meta http-equiv=\"Content-Style-Type\" content=\"text/css\">\n",
            "<meta http-equiv=\"Content-Script-Type\" content=\"text/javascript\">\n",
            "\n",
            "<title>æ±äº¬é½å¬å¼ãã¼ã ãã¼ã¸</title>\n",
            "<meta name=\"description\" content=\"æ±äº¬é½åºã®å¬å¼ãã¼ã ãã¼ã¸ãé½æ¿ã«é¢ããææ°æå ±ãè¨èä¼è¦ãé½è­°ä¼ãåå±ã®æå ±ãçµ±è¨ãå¥æ­ã»å¥ç´æå ±ãç¥äºã¸ã®æè¨ãªã©ã\">\n",
            "\n",
            "<meta name=\"author\" content=\"æ±äº¬é½\">\n",
            "<meta name=\"viewport\" content=\"width=device-width, maximum-scale=3.0\">\n",
            "<meta name=\"format-detection\" content=\"telephone=no\">\n",
            "<link href=\"/shared/style/default.css\" rel=\"stylesheet\" type=\"text/css\" media=\"all\">\n",
            "<link href=\"/shared/style/shared.css\" rel=\"stylesheet\" type=\"text/css\" media=\"all\">\n",
            "<link href=\"/shared/style/color/color0.css\" rel=\"stylesheet\" type=\"text/css\" media=\"all\" id=\"tmp_color\" title=\"default\" class=\"tmp_color\">\n",
            "<link href=\"/shared/style/color/color1.css\" rel=\"alternate stylesheet\" type=\"text/css\" media=\"all\" title=\"darkblue\" class=\"tmp_color\">\n",
            "<link href=\"/shared/style/color/color2.css\" rel=\"alternate stylesheet\" type=\"text/css\" media=\"all\" title=\"yellow\" class=\"tmp_color\">\n",
            "<link href=\"/shared/style/color/color3.css\" rel=\"alternate stylesheet\" type=\"text/css\" media=\"all\" title=\"black\" class=\"tmp_color\">\n",
            "<link href=\"/shared/style/font/normal.css\" rel=\"stylesheet\" type=\"text/css\" id=\"tmp_font\" media=\"all\" title=\"default\" class=\"tmp_font\">\n",
            "<link href=\"/shared/style/font/small.css\" rel=\"alternate stylesheet\" type=\"text/css\" media=\"all\" title=\"small\" class=\"tmp_font\">\n",
            "<link href=\"/shared/style/font/big.css\" rel=\"alternate stylesheet\" type=\"text/css\" media=\"all\" title=\"big\" class=\"tmp_font\">\n",
            "<link href=\"/shared/style/font/big2.css\" rel=\"alternate stylesheet\" type=\"text/css\" media=\"all\" title=\"big2\" class=\"tmp_font\">\n",
            "<link href=\"/shared/templates/top/style/edit.css\" rel=\"stylesheet\" type=\"text/css\" media=\"all\">\n",
            "<link href=\"/shared/style/tablet.css\" rel=\"stylesheet\" media=\"only screen and (min-width : 671px) and (max-width : 959px)\" type=\"text/css\" id=\"tmp_tablet_css\">\n",
            "<link href=\"/shared/style/smartphone.css\" rel=\"stylesheet\" media=\"only screen and (max-width : 670px)\" type=\"text/css\" id=\"tmp_smartphone_css\">\n",
            "<link href=\"/shared/images/favicon/favicon.ico\" rel=\"shortcut icon\" type=\"image/vnd.microsoft.icon\">\n",
            "<link href=\"/shared/images/favicon/apple-touch-icon-precomposed.png\" rel=\"apple-touch-icon-precomposed\">\n",
            "<link href=\"/rss/index.rdf\" rel=\"alternate\" type=\"application/rss+xml\" title=\"æ±äº¬é½ æ°çæå ±ã®RSS\">\n",
            "<script type=\"text/javascript\" src=\"/shared/js/jquery.js\"></script>\n",
            "<script type=\"text/javascript\" src=\"/shared/js/gd.js\"></script>\n",
            "<script type=\"text/javascript\" src=\"/shared/js/setting_head.js\"></script>\n",
            "<script type=\"text/javascript\" src=\"/shared/readspeaker/ReadSpeaker.js?pids=embhl\"></script>\n",
            "\n",
            "\n",
            "</head>\n",
            "<body class=\"format_top no_javascript\">\n",
            "<script type=\"text/javascript\" src=\"/shared/js/setting_body.js\"></script>\n",
            "<div id=\"tmp_wrapper\">\n",
            "<noscript>\n",
            "<p>ãã®ãµã¤ãã§ã¯JavaScriptãä½¿ç¨ããã³ã³ãã³ãã»æ©è½ãæä¾ãã¦ãã¾ããJavaScriptãæå¹ã«ããã¨ãå©ç¨ããã ãã¾ãã</p>\n",
            "</noscript>\n",
            "<p><a href=\"#tmp_honbun\" class=\"skip\">æ¬æã¸ã¹ã­ãããã¾ãã</a></p>\n",
            "<div id=\"tmp_wrap_header\">\n",
            "\n",
            "<div id=\"tmp_header\">\n",
            "<div id=\"tmp_hlogo\">\n",
            "<h1><span>æ±äº¬é½ TOKYO METROPOLITAN GOVERNMENT</span></h1>\n",
            "</div>\n",
            "<ul id=\"tmp_hnavi_s\">\n",
            "    <li id=\"tmp_hnavi_lmenu\"><a href=\"javascript:void(0);\"><span>ã¡ãã¥ã¼</span></a> </li>\n",
            "</ul>\n",
            "<div id=\"tmp_means\">\n",
            "<div id=\"tmp_means_primary\">\n",
            "<ul id=\"tmp_hnavi\">\n",
            "    <li class=\"read_btn\"><a accesskey=\"L\" onclick=\"readpage(this.href, 'tmp_readspeaker'); return false;\" target=\"_blank\" rel=\"nofollow\" href=\"//app-as.readspeaker.com/cgi-bin/rsent?customerid=5511&amp;lang=ja_jp&amp;readid=tmp_maincontents&amp;url=\">é³å£°èª­ã¿ä¸ã</a></li>\n",
            "    <li class=\"func_btn\"><a href=\"/moji.html\">æå­ãµã¤ãºã»è²åãå¤æ´</a></li>\n",
            "    <li class=\"lang_btn\"><a href=\"/foreignlanguage.html\">Language</a></li>\n",
            "</ul>\n",
            "</div>\n",
            "<div id=\"tmp_means_secondary\">\n",
            "<div id=\"tmp_sitemap_btn\">\n",
            "<p><a href=\"/sitemap.html\">ãµã¤ãããã</a></p>\n",
            "</div>\n",
            "<div id=\"tmp_hsearch\">\n",
            "<form id=\"tmp_gsearch\" action=\"http://search.metro.tokyo.jp/search\" method=\"get\" name=\"tmp_gsearch\">\n",
            "    <input title=\"ãµã¤ãåæ¤ç´¢\" id=\"tmp_query\" name=\"q\"> <input type=\"hidden\" value=\"UTF-8\" name=\"oe\"> <input type=\"hidden\" value=\"JPFRONT\" name=\"client\"> <input type=\"hidden\" value=\"JPFRONT\" name=\"proxystylesheet\"> <input type=\"hidden\" value=\"JP\" name=\"site\"> <input type=\"hidden\" value=\"xml_no_dtd\" name=\"output\"> <input type=\"hidden\" value=\"10\" name=\"num\"> <input type=\"hidden\" name=\"sitesearch\"> <input type=\"hidden\" value=\"UTF-8\" name=\"ie\">      <input id=\"tmp_func_sch_btn\" type=\"submit\" value=\"æ¤ç´¢\">\n",
            "</form>\n",
            "</div>\n",
            "<div id=\"tmp_hnavi_dsearch\">\n",
            "<p><a href=\"/search/index.html\">è©³ç´°æ¤ç´¢</a></p>\n",
            "</div>\n",
            "</div>\n",
            "</div>\n",
            "</div>\n",
            "\n",
            "\n",
            "<div id=\"tmp_wrap_emergency\">\n",
            "</div>\n",
            "<div id=\"tmp_top_emergency\">\n",
            "</div>\n",
            "\n",
            "\n",
            "<div id=\"tmp_wrap_gnavi\">\n",
            "<div id=\"tmp_gnavi\">\n",
            "<ul>\n",
            "    <li id=\"tmp_glist1\" class=\"top\"><a href=\"/index.html\">ããã</a> </li>\n",
            "    <li id=\"tmp_glist2\"><a href=\"/kurashi/index.html\">æ®ããã»å¥åº·ã»ç¦ç¥</a> </li>\n",
            "    <li id=\"tmp_glist3\"><a href=\"/kyoiku/index.html\">æè²ã»æåã»ã¹ãã¼ã</a> </li>\n",
            "    <li id=\"tmp_glist4\"><a href=\"/sangyo/index.html\">ç£æ¥­ã»ä»äº</a> </li>\n",
            "    <li id=\"tmp_glist5\"><a href=\"/kankyo/index.html\">ç°å¢ã»é½å¸åºç¤</a> </li>\n",
            "    <li id=\"tmp_glist6\"><a href=\"/tosei/index.html\">é½æ¿æå ±</a> </li>\n",
            "</ul>\n",
            "</div>\n",
            "</div>\n",
            "\n",
            "</div>\n",
            "<div id=\"tmp_wrap_main\" class=\"column_cnt\">\n",
            "<p id=\"tmp_honbun\" class=\"skip\">ããããæ¬æã§ãã</p>\n",
            "<div id=\"tmp_main\">\n",
            "<div id=\"tmp_maincontents\">\n",
            "\n",
            "\t<div id=\"tmp_top_ban\">\n",
            "\t\t<div id=\"tmp_readspeaker\" class=\"rs_preserve rs_skip\"></div>\n",
            "\t\t<div id=\"tmp_top_mainvisual\" class=\"tbs tblw rs_preserve\">\n",
            "\t\t\t<div class=\"top_slider\">\n",
            "\t\t\t\t\n",
            "\t\t\t\t<div class=\"tmv_cnt\">\n",
            "\t\t\t\t\t\n",
            "\t\t\t\t\t\t<a href=\"https://finaward.metro.tokyo.jp/\">\n",
            "\t\t\t\t\t\n",
            "\t\t\t\t\t\n",
            "\t\t\t\t\t\t<span class=\"detail_img\"><img src=\"/images/kinyusyo.jpg\" alt=\"éèè³ã¹ã©ã¤ãããã¼\" width=\"930\" height=\"618\"></span>\n",
            "\t\t\t\t\t\n",
            "                    \n",
            "                    \t</a>\n",
            "                    \n",
            "\t\t\t\t</div>\n",
            "\t\t\t\t\n",
            "\t\t\t\t\n",
            "\t\t\t\t<div class=\"tmv_cnt\">\n",
            "\t\t\t\t\t\n",
            "\t\t\t\t\t\t<a href=\"http://www.hip-ltd.co.jp/bousai/\">\n",
            "\t\t\t\t\t\n",
            "\t\t\t\t\t\n",
            "\t\t\t\t\t\t<span class=\"detail_img\"><img src=\"/images/bousai.jpg\" alt=\"é²ç½ã«é¢ããé½æ°ã·ã³ãã¸ã¦ã å¥³æ§Ãé²ç½ã¹ã©ã¤ãããã¼\" width=\"930\" height=\"618\"></span>\n",
            "\t\t\t\t\t\n",
            "                    \n",
            "                    \t</a>\n",
            "                    \n",
            "\t\t\t\t</div>\n",
            "\t\t\t\t\n",
            "\t\t\t\t\n",
            "\t\t\t\t<div class=\"tmv_cnt\">\n",
            "\t\t\t\t\t\n",
            "\t\t\t\t\t\t<a href=\"https://www.para-athlete.tokyo/\">\n",
            "\t\t\t\t\t\n",
            "\t\t\t\t\t\n",
            "\t\t\t\t\t\t<span class=\"detail_img\"><img src=\"/images/para_1.jpg\" alt=\"ãã©ãªã³ããã¯ã¢ã¹ãªã¼ãçºæã¹ã©ã¤ãããã¼\" width=\"930\" height=\"618\"></span>\n",
            "\t\t\t\t\t\n",
            "                    \n",
            "                    \t</a>\n",
            "                    \n",
            "\t\t\t\t</div>\n",
            "\t\t\t\t\n",
            "\t\t\t\t\n",
            "\t\t\t\t<div class=\"tmv_cnt\">\n",
            "\t\t\t\t\t\n",
            "\t\t\t\t\t<a href=\"http://www.zaimu.metro.tokyo.jp/zaisei/zaisei.html#zaisei_4\">\n",
            "\t\t\t\t\t\n",
            "\t\t\t\t\t\n",
            "\t\t\t\t\t\t<span class=\"detail_img\"><img src=\"/images/20180701.png\" alt=\"è²¡åå±äºæ¥­ææ¡åéã¹ã©ã¤ãããã¼\" width=\"930\" height=\"618\"></span>\n",
            "\t\t\t\t\t\n",
            "                    \n",
            "                    \t</a>\n",
            "                    \n",
            "\t\t\t\t</div>\n",
            "\t\t\t\t\n",
            "\t\t\t\t\n",
            "\t\t\t\t<div class=\"tmv_cnt\">\n",
            "\t\t\t\t\t\n",
            "\t\t\t\t\t<a href=\"https://jisa-biz.tokyo/\">\n",
            "\t\t\t\t\t\n",
            "\t\t\t\t\t\n",
            "\t\t\t\t\t\t<span class=\"detail_img\"><img src=\"/images/jisabiz.png\" alt=\"æå·®BIZ_2018_æ±äº¬ã®æãå¤ããããã¹ã©ã¤ãããã¼\" width=\"930\" height=\"618\"></span>\n",
            "\t\t\t\t\t\n",
            "                    \n",
            "                    \t</a>\n",
            "                    \n",
            "\t\t\t\t</div>\n",
            "\t\t\t\t\n",
            "\t\t\t</div>\n",
            "\t\t</div>\n",
            "\t\t\n",
            "\t\t<div class=\"tbs tbf\">\n",
            "\t\t\t<p><a href=\"/tosei/governor/governor/index.html\"><span class=\"detail_img\"><img src=\"/images/top_chiji_ban_l.jpg\" alt=\"å°æ± é½ç¥äºã®é¨å±\" width=\"297\" height=\"297\"></span>\n",
            "</a></p>\n",
            "\t\t\t<div class=\"atxt\"><p>8æ3æ¥ï¼éæï¼14æ00åããç¥äºè¨èä¼è¦ãããã¾ãã</p></div>\n",
            "\t\t</div>\n",
            "\t\t\n",
            "\t\t<div id=\"tmp_tb_twitter\" class=\"tbs rs_skip\">\n",
            "\t\t\t<div id=\"tmp_tb_skip\"><a href=\"#tmp_tb_end\">ããããtwitterã§ããTwitterãã¹ã­ãããã¾ãã</a></div>\n",
            "<a href=\"https://twitter.com/tocho_koho\" data-widget-id=\"702376532849926146\" height=\"237\" class=\"twitter-timeline\">&#64;tocho_kohoããã®ãã¤ã¼ã</a>\n",
            "<script>!function(d,s,id){var js,fjs=d.getElementsByTagName(s)[0],p=/^http:/.test(d.location)?'http':'https';if(!d.getElementById(id)){js=d.createElement(s);js.id=id;js.src=p+\"://platform.twitter.com/widgets.js\";fjs.parentNode.insertBefore(js,fjs);}}(document,\"script\",\"twitter-wjs\");</script>\n",
            "\t\t\t<p><a href=\"javascript:void(0);\" id=\"tmp_tb_end\">ããã¾ã§Twitterã§ãã</a></p>\n",
            "\t\t</div>\n",
            "\t\t<div class=\"tbsw\">\n",
            "\t\t<div id=\"tmp_countdown\" class=\"tbs tbf\">\n",
            "\t\t\t<script type=\"text/javascript\" src=\"/shared/js/countdown.js\"></script>\n",
            "\t\t</div>\n",
            "\t\t<div id=\"tmp_tb_info\" class=\"tbs\">\n",
            "        \t<div id=\"tmp_top_info\">\n",
            "            \n",
            "            \n",
            "\t\t\t<div id=\"tmp_top_info_ttl\"><h2>ãç¥ãã</h2></div>\n",
            "\t\t\t\n",
            "            <div id=\"tmp_top_info_cnt\">\n",
            "        \t<ul>\n",
            "\t\t\t\n",
            "\t\t\t\t<li><a href=\"http://www.fukushihoken.metro.tokyo.jp/joho/soshiki/shidou/shidou/oshirase/H30gienkin.html\">å¹³æ30å¹´7æè±ªé¨ç¾©æ´éã®åé</a>\n",
            "</li>\n",
            "\t\t\t\n",
            "\t\t\t\n",
            "\t\t\t\t<li><a href=\"/tosei/tosei/news/gouu.html\">å¹³æ30å¹´7æè±ªé¨ã¸ã®é½ã®å¯¾å¿</a>\n",
            "</li>\n",
            "\t\t\t\n",
            "\t\t\t\n",
            "\t\t\t\t<li><a href=\"http://www.taishin.metro.tokyo.jp/ploof/blockwall.html\">ãã­ãã¯å¡ã®å®å¨ç¹æ¤</a>\n",
            "</li>\n",
            "\t\t\t\n",
            "\t\t\t\n",
            "\t\t\t\t<li><a href=\"http://www.zaimu.metro.tokyo.jp/totyousyakaisyuu/\">é½åºèã®è¨­åæ´æ°å·¥äºã«ã¤ãã¦ï¼ãã­ã¢æ¡åãªã©ï¼</a>\n",
            "</li>\n",
            "\t\t\t\n",
            "\t\t\t\n",
            "\t\t\t\t<li><a href=\"http://tokyodouga.jp/#live\">æ±äº¬åç»ã©ã¤ãã®ãç¥ãã</a>\n",
            "</li>\n",
            "\t\t\t\n",
            "        \t</ul>\n",
            "        \t</div>\n",
            "            \n",
            "            \n",
            "            \n",
            "            \n",
            "            \n",
            "        \t</div>\n",
            "\t\t</div>\n",
            "\t\t\n",
            "\t\t<div class=\"tbs\">\n",
            "\t\t\t<p><a href=\"http://www.bousai.metro.tokyo.jp/\"><span class=\"detail_img\"><img src=\"/images/saigai_bousai_ver4_1.png\" alt=\"ç½å®³ã»é²ç½æå ±\" width=\"307\" height=\"307\"></span>\n",
            "</a></p>\n",
            "\t\t\t\n",
            "\t\t</div>\n",
            "\t\t\n",
            "\t\t\n",
            "\t\t<div class=\"tbs\">\n",
            "\t\t\t<p><a href=\"https://tokyodouga.jp/\"><span class=\"detail_img\"><img src=\"/images/tokyodouga4.jpg\" alt=\"æ±äº¬åç»\" width=\"307\" height=\"307\"></span>\n",
            "</a></p>\n",
            "\t\t\t\n",
            "\t\t</div>\n",
            "\t\t\n",
            "\t\t</div>\n",
            "\t\t<div class=\"tbs tbl\">\n",
            "\t\t\t<div id=\"tmp_top_news\">\n",
            "\t\t\t\t<div id=\"tmp_top_news_ttl\">\n",
            "\t\t\t\t\t<h2>æ°çæå ±ï¼å ±éçºè¡¨ï¼</h2>\n",
            "                    <p class=\"rss_btn\"><a href=\"/rss/index.rdf\">RSS</a></p>\n",
            "\t\t\t\t\t<ul class=\"top_news_navi\">\n",
            "\t\t\t\t\t\t<li><a href=\"/tosei/hodohappyo/ichiran.html\">æ°çæå ±ä¸è¦§</a></li>\n",
            "\t\t\t\t\t\t<li><a href=\"/tosei/hodohappyo/press/index.html\">ããã¾ã§ã®å ±éçºè¡¨</a></li>\n",
            "\t\t\t\t\t</ul>\n",
            "\t\t\t\t</div>\n",
            "\t\t\t\t<div id=\"tmp_top_news_cnt\">\n",
            "\t\t\t\t<p class=\"top_news_count\">æ¬æ¥ã®æ´æ°æå ±<strong>16</strong>ä»¶</p>\n",
            "<p class=\"top_news_date\">8æ1æ¥</p>\n",
            "<table class=\"datatable\">\n",
            "\t<tr>\n",
            "\t\t<td class=\"icon\"><p><img src=\"/shared/templates/top/images/news_icon_3.gif\" width=\"54\" height=\"21\" alt=\"ãç¥ãã\"></p></td>\n",
            "\t\t<td><p><a href=\"/tosei/hodohappyo/press/2018/08/01/16.html\">å¹³æ30å¹´7æè±ªé¨ã¸ã®å¯¾å¿(ç¬¬26å ±)æ¶²ä½ãã«ã¯ãæä¾</a></p></td>\n",
            "\t</tr>\n",
            "\t<tr>\n",
            "\t\t<td class=\"icon\"><p><img src=\"/shared/templates/top/images/news_icon_2.gif\" width=\"54\" height=\"21\" alt=\"åé\"></p></td>\n",
            "\t\t<td><p><a href=\"/tosei/hodohappyo/press/2018/08/01/06.html\">ã·ã§ã¼ãã·ã§ã¼ããCinematic Tokyoé¨éãåééå§</a></p></td>\n",
            "\t</tr>\n",
            "\t<tr>\n",
            "\t\t<td class=\"icon\"><p><img src=\"/shared/templates/top/images/news_icon_2.gif\" width=\"54\" height=\"21\" alt=\"åé\"></p></td>\n",
            "\t\t<td><p><a href=\"/tosei/hodohappyo/press/2018/08/01/03.html\">åç«¯å»çæ©å¨ã¢ã¯ã»ã©ã¬ã¼ã·ã§ã³ãã­ã¸ã§ã¯ãå¯¾è±¡èåé</a></p></td>\n",
            "\t</tr>\n",
            "\t<tr>\n",
            "\t\t<td class=\"icon\"><p><img src=\"/shared/templates/top/images/news_icon_2.gif\" width=\"54\" height=\"21\" alt=\"åé\"></p></td>\n",
            "\t\t<td><p><a href=\"/tosei/hodohappyo/press/2018/08/01/11.html\">ããã¼ã ãã£ãããªããã¸ã®å å¥èãåé</a></p></td>\n",
            "\t</tr>\n",
            "\t<tr>\n",
            "\t\t<td class=\"icon\"><p><img src=\"/shared/templates/top/images/news_icon_2.gif\" width=\"54\" height=\"21\" alt=\"åé\"></p></td>\n",
            "\t\t<td><p><a href=\"/tosei/hodohappyo/press/2018/08/01/14.html\">å¹³æ30å¹´åº¦æ±äº¬é½ã¹ãã¼ãæ¨é²ä¼æ¥­ãåé</a></p></td>\n",
            "\t</tr>\n",
            "\t<tr>\n",
            "\t\t<td class=\"icon\"><p><img src=\"/shared/templates/top/images/news_icon_1.gif\" width=\"54\" height=\"21\" alt=\"ã¤ãã³ã\"></p></td>\n",
            "\t\t<td><p><a href=\"/tosei/hodohappyo/press/2018/08/01/10.html\">ãæµ·ãã¿ããã«å±ããé½åºå±æå®¤ã§éå¬</a></p></td>\n",
            "\t</tr>\n",
            "\t<tr>\n",
            "\t\t<td class=\"icon\"><p><img src=\"/shared/templates/top/images/news_icon_1.gif\" width=\"54\" height=\"21\" alt=\"ã¤ãã³ã\"></p></td>\n",
            "\t\t<td><p><a href=\"/tosei/hodohappyo/press/2018/08/01/01.html\">å¤æ©ä¸éµã°ã«ã¼ãããã®ãç¥ãã å°å±±ç°ç·å°ã»ã</a></p></td>\n",
            "\t</tr>\n",
            "\t<tr>\n",
            "\t\t<td class=\"icon\"><p><img src=\"/shared/templates/top/images/news_icon_1.gif\" width=\"54\" height=\"21\" alt=\"ã¤ãã³ã\"></p></td>\n",
            "\t\t<td><p><a href=\"/tosei/hodohappyo/press/2018/08/01/02.html\">é²ç½å¬åã°ã«ã¼ãããã®ãç¥ãã æ±å¤§ååå¬å</a></p></td>\n",
            "\t</tr>\n",
            "\t<tr>\n",
            "\t\t<td class=\"icon\"><p><img src=\"/shared/templates/top/images/news_icon_1.gif\" width=\"54\" height=\"21\" alt=\"ã¤ãã³ã\"></p></td>\n",
            "\t\t<td><p><a href=\"/tosei/hodohappyo/press/2018/08/01/07.html\">é½ç«9åº­åããã®ãç¥ãã æµé¢å®®æ©è³åº­å</a></p></td>\n",
            "\t</tr>\n",
            "\t<tr>\n",
            "\t\t<td class=\"icon\"><p><img src=\"/shared/templates/top/images/news_icon_1.gif\" width=\"54\" height=\"21\" alt=\"ã¤ãã³ã\"></p></td>\n",
            "\t\t<td><p><a href=\"/tosei/hodohappyo/press/2018/08/01/12.html\">é½ç«ä¸­å¤®å³æ¸é¤¨ ä¼ç»å±ç¤ºã»å¬éè¬åº§ãéå¬</a></p></td>\n",
            "\t</tr>\n",
            "</table>\n",
            "\t\t\t\t</div>\n",
            "\t\t\t</div>\n",
            "\t\t</div>\n",
            "\t\t\n",
            "\t\t<div class=\"tbs\">\n",
            "\t\t\t<p><a href=\"http://www.toseikaikaku.metro.tokyo.jp\"><span class=\"detail_img\"><img src=\"/images/toseikaikaku.jpg\" alt=\"é½æ¿æ¹é©æ¬é¨\" width=\"307\" height=\"307\"></span>\n",
            "</a></p>\n",
            "\t\t\t\n",
            "\t\t</div>\n",
            "\t\t\n",
            "\t\t\n",
            "\t\t<div class=\"tbs\">\n",
            "\t\t\t<p><a href=\"http://www.gotokyo.org/\"><span class=\"detail_img\"><img src=\"/images/gotokyo.jpg\" alt=\"æ±äº¬é½è¦³åå¬å¼ãµã¤ããGOTOKYO\" width=\"307\" height=\"307\"></span>\n",
            "</a></p>\n",
            "\t\t\t\n",
            "\t\t</div>\n",
            "\t\t\n",
            "\t\t\n",
            "\t\t<div class=\"tbs\">\n",
            "\t\t\t<p><a href=\"http://www.koho.metro.tokyo.jp/\"><span class=\"detail_img\"><img src=\"/images/koho.jpg\" alt=\"åºå ±æ±äº¬é½\" width=\"307\" height=\"307\"></span>\n",
            "</a></p>\n",
            "\t\t\t\n",
            "\t\t</div>\n",
            "\t\t\n",
            "\t\t\n",
            "\t\t<div class=\"tbs\">\n",
            "\t\t\t<p><a href=\"http://www.gikai.metro.tokyo.jp/\"><span class=\"detail_img\"><img src=\"/images/ban_togikai.jpg\" alt=\"æ±äº¬é½è­°ä¼\" width=\"307\" height=\"307\"></span>\n",
            "</a></p>\n",
            "\t\t\t\n",
            "\t\t</div>\n",
            "\t\t\n",
            "\t\t\n",
            "\t\t<div class=\"tbs\">\n",
            "\t\t\t<p><a href=\"/tosei/johokokai/portal/index.html\"><span class=\"detail_img\"><img src=\"/images/johopotal.jpg\" alt=\"æå ±å¬éãã¼ã¿ã«\" width=\"307\" height=\"307\"></span>\n",
            "</a></p>\n",
            "\t\t\t\n",
            "\t\t</div>\n",
            "\t\t\n",
            "\t\t\n",
            "\t\t<div class=\"tbs\">\n",
            "\t\t\t<p><a href=\"https://tokyotokyo.jp/ja/\"><span class=\"detail_img\"><img src=\"/images/tokyo_tokyo.jpg\" alt=\"TOKYOÂ TOKYO\" width=\"307\" height=\"307\"></span>\n",
            "</a></p>\n",
            "\t\t\t\n",
            "\t\t</div>\n",
            "\t\t\n",
            "\t\t\n",
            "\t\t<div class=\"tbs\">\n",
            "\t\t\t<p><a href=\"http://www.fukushihoken.metro.tokyo.jp/kodomo/tokyo_hoiku/index.html\"><span class=\"detail_img\"><img src=\"/images/hoikujjoho.jpg\" alt=\"ã¨ããããä¿è²æå ±\" width=\"307\" height=\"307\"></span>\n",
            "</a></p>\n",
            "\t\t\t\n",
            "\t\t</div>\n",
            "\t\t\n",
            "\t\t\n",
            "\t\t<div class=\"tbs\">\n",
            "\t\t\t<p><a href=\"https://www.seisakukikaku.metro.tokyo.jp/basic-plan/actionplan-for-2020/index.html\"><span class=\"detail_img\"><img src=\"/images/fitst_tokyo.jpg\" alt=\"é½æ°ãã¡ã¼ã¹ãã§ã¤ãããæ°ããæ±äº¬ãã2020å¹´ã«åããå®è¡ãã©ã³ã\" width=\"307\" height=\"307\"></span>\n",
            "</a></p>\n",
            "\t\t\t\n",
            "\t\t</div>\n",
            "\t\t\n",
            "\t</div>\n",
            "\n",
            "\n",
            "\n",
            "\t\t\t\n",
            "\n",
            "</div>\n",
            "</div>\n",
            "</div>\n",
            "\n",
            "<div class=\"pnavi\">\n",
            "<p class=\"ptop\"><a href=\"#tmp_header\">ãã¼ã¸ã®åé ­ã¸æ»ã</a></p>\n",
            "</div>\n",
            "\n",
            "<div id=\"tmp_foot_link\">\n",
            "<div id=\"tmp_flink\">\n",
            "<ul>\n",
            "    <li><a href=\"/tosei/tosei/soshikijoho/soshiki/index.html\"><span class=\"txt\">é½ã®çµç¹</span></a></li>\n",
            "    <li><a href=\"/tosei/iken-sodan/otoiawase/otoiawase/goiken/index.html\"><span class=\"txt\">ããªãã®å£°ããå¯ããã ãã</span></a></li>\n",
            "    <li><a href=\"/bunya/index.html\"><span class=\"txt\">åéããããã</span></a></li>\n",
            "    <li class=\"last\"><a href=\"/event/index_calendar.html\"><span class=\"txt\">ã¤ãã³ãã«ã¬ã³ãã¼</span></a></li>\n",
            "    <li><a href=\"http://www.saiyou2.metro.tokyo.jp/pc/\"><span class=\"txt\">è·å¡æ¡ç¨</span></a></li>\n",
            "    <li><a href=\"http://www.yokoso.metro.tokyo.jp/\"><span class=\"txt\">é½åºèè¦å­¦ã»å±æå®¤</span></a></li>\n",
            "    <li><a href=\"http://www.e-procurement.metro.tokyo.jp/index.jsp\"><span class=\"txt\">å¥æ­ã»å¥ç´æå ±</span></a></li>\n",
            "    <li class=\"last\"><a href=\"/tosei/tokyoto/online/download.html\"><span class=\"txt\">æ§å¼ãã¦ã³ã­ã¼ã</span></a></li>\n",
            "</ul>\n",
            "</div>\n",
            "</div>\n",
            "<div id=\"tmp_social\">\n",
            "<ul>\n",
            "    <li id=\"twitter\"><a href=\"/tosei/koho/sns/twitter/index.html\"><span>Twitter</span></a></li>\n",
            "    <li id=\"videochannel\"><a href=\"https://tokyodouga.jp/\"><span>æ±äº¬åç» æ±äº¬é½å¬å¼åç»ãã£ã³ãã«</span></a></li>\n",
            "    <li id=\"facebook\"><a href=\"/tosei/koho/sns/facebook/index.html\"><span>Facebook</span></a></li>\n",
            "    <li id=\"instagram\"><a href=\"/tosei/koho/sns/instagram/index.html\"><span>Instagram</span></a></li>\n",
            "</ul>\n",
            "</div>\n",
            "<div id=\"tmp_fnavi\">\n",
            "<ul>\n",
            "    <li><a href=\"/tosei/iken-sodan/otoiawase/otoiawase/index.html\">åãåãã</a></li>\n",
            "    <li><a href=\"/help/index.html\">ä½¿ãæ¹ãã«ã</a></li>\n",
            "    <li><a href=\"/concept/index.html\">ãã®ãµã¤ãã«ã¤ãã¦</a></li>\n",
            "    <li><a href=\"/privatepolicy/index.html\">åäººæå ±ã®åãæ±ã</a></li>\n",
            "    <li><a href=\"/chosakuken/index.html\">èä½æ¨©ã»ãªã³ã¯ã«ã¤ãã¦</a></li>\n",
            "    <li><a href=\"/link/index.html\">ãªã³ã¯é</a></li>\n",
            "</ul>\n",
            "</div>\n",
            "<div id=\"tmp_faddress\">\n",
            "<address><span class=\"spbr\">æ±äº¬é½åº</span><span>ã163-8001 æ±äº¬é½æ°å®¿åºè¥¿æ°å®¿2-8-1<a href=\"/tosei/tosei/soshikijoho/kotsuannai.html\" class=\"access_btn\">äº¤éæ¡å</a></span> <span class=\"spbr\">é»è©±ï¼03-5321-1111(ä»£è¡¨)</span><span class=\"spbr\">æ³äººçªå·ï¼8000020130001</span> </address>\n",
            "<p lang=\"en\">Copyright (C) 2018 Tokyo Metropolitan Government. All Rights Reserved.</p>\n",
            "</div></div>\n",
            "<script type=\"text/javascript\" src=\"/shared/js/easing.js\"></script>\n",
            "<script type=\"text/javascript\" src=\"/shared/js/timer.js\"></script>\n",
            "<script type=\"text/javascript\" src=\"/shared/js/gallery-slider.js\"></script>\n",
            "<script type=\"text/javascript\" src=\"/shared/js/setting_onload.js\"></script>\n",
            "</body>\n",
            "</html>\n",
            "\n"
          ],
          "name": "stdout"
        }
      ]
    },
    {
      "metadata": {
        "id": "GsLHgpwN7clF",
        "colab_type": "text"
      },
      "cell_type": "markdown",
      "source": [
        "08-03 mediawiki"
      ]
    },
    {
      "metadata": {
        "id": "QSqasoSrjmUf",
        "colab_type": "code",
        "colab": {}
      },
      "cell_type": "code",
      "source": [
        "import sys\n",
        "\n",
        "title = input('何を検索しますか? >') \n",
        "url = 'https://ja.wikipedia.org/w/api.php'\n",
        "api_params1 = {\n",
        "                'action': 'query',\n",
        "                'titles': title,\n",
        "                'prop': 'categories',\n",
        "                'format': 'json'\n",
        "              }\n",
        "\n",
        "api_params2 = {\n",
        "                'action': 'query',\n",
        "                'titles': title,\n",
        "                'prop': 'revisions',\n",
        "                'rvprop': 'content',\n",
        "                'format': 'xmlfm'\n",
        "              }\n",
        "categories = requests.get(url, params=api_params1).json()\n",
        "page_id = categories['query']['pages']\n",
        "if '-1' in page_id:\n",
        "    print('該当するページがありません')\n",
        "    sys.exit()\n",
        "    \n",
        "else:\n",
        "    id = list(page_id.keys())\n",
        "    if 'categories' in categories['query']['pages'][id[0]]:\n",
        "        categories = categories['query']['pages'][id[0]]['categories']\n",
        "        for t in categories:\n",
        "            print(t['title'])\n",
        "    else:\n",
        "        print('保存できるページを検索できませんでした')\n",
        "        sys.exit()\n",
        "\n",
        "admit = input('検索結果を保存しますか?(yes) >') \n",
        "if admit == 'yes':\n",
        "    data = requests.get(url, params=api_params2)\n",
        "    with open(title + '.html', 'w', encoding = 'utf_8') as f:\n",
        "        f.write(data.text)\n",
        "else:\n",
        "    print('プログラムを終了します')\n",
        "    sys.exit()\n",
        "\n",
        " "
      ],
      "execution_count": 0,
      "outputs": []
    },
    {
      "metadata": {
        "id": "FqXp4qlb-oQg",
        "colab_type": "text"
      },
      "cell_type": "markdown",
      "source": [
        "HeadLine（RSS）"
      ]
    },
    {
      "metadata": {
        "id": "s9e0_J1k-wmA",
        "colab_type": "code",
        "colab": {
          "base_uri": "https://localhost:8080/",
          "height": 1071
        },
        "outputId": "a5455318-58b4-4c87-cf93-d163e52b3d5d"
      },
      "cell_type": "code",
      "source": [
        "import requests\n",
        "from bs4 import BeautifulSoup\n",
        "\n",
        "xml = requests.get('http://news.yahoo.co.jp/pickup/science/rss.xml')\n",
        "soup = BeautifulSoup(xml.text, 'html.parser')\n",
        "for news in soup.findAll('item'):\n",
        "    print(news.title.string, news)"
      ],
      "execution_count": 16,
      "outputs": [
        {
          "output_type": "stream",
          "text": [
            "風疹流行の兆し 予防接種を <item>\n",
            "<title>風疹流行の兆し 予防接種を</title>\n",
            "<link/>https://news.yahoo.co.jp/pickup/6293452\n",
            "<pubdate>Tue, 14 Aug 2018 21:39:59 +0900</pubdate>\n",
            "<guid ispermalink=\"false\">yahoo/news/topics/6293452</guid>\n",
            "</item>\n",
            "アマゾンで新種のラン発見 <item>\n",
            "<title>アマゾンで新種のラン発見</title>\n",
            "<link/>https://news.yahoo.co.jp/pickup/6293539\n",
            "<pubdate>Wed, 15 Aug 2018 15:01:56 +0900</pubdate>\n",
            "<enclosure length=\"133\" type=\"image/gif\" url=\"https://s.yimg.jp/images/icon/photo.gif\">\n",
            "</enclosure>\n",
            "<guid ispermalink=\"false\">yahoo/news/topics/6293539</guid>\n",
            "</item>\n",
            "宇宙エレベーター 福島で実験 <item>\n",
            "<title>宇宙エレベーター 福島で実験</title>\n",
            "<link/>https://news.yahoo.co.jp/pickup/6293439\n",
            "<pubdate>Tue, 14 Aug 2018 19:29:58 +0900</pubdate>\n",
            "<enclosure length=\"133\" type=\"image/gif\" url=\"https://s.yimg.jp/images/icon/photo.gif\">\n",
            "</enclosure>\n",
            "<guid ispermalink=\"false\">yahoo/news/topics/6293439</guid>\n",
            "</item>\n",
            "熱中症と似た症状 脳梗塞注意 <item>\n",
            "<title>熱中症と似た症状 脳梗塞注意</title>\n",
            "<link/>https://news.yahoo.co.jp/pickup/6293435\n",
            "<pubdate>Tue, 14 Aug 2018 18:51:57 +0900</pubdate>\n",
            "<enclosure length=\"133\" type=\"image/gif\" url=\"https://s.yimg.jp/images/icon/photo.gif\">\n",
            "</enclosure>\n",
            "<guid ispermalink=\"false\">yahoo/news/topics/6293435</guid>\n",
            "</item>\n",
            "ブルーライトで失明早く?研究 <item>\n",
            "<title>ブルーライトで失明早く?研究</title>\n",
            "<link/>https://news.yahoo.co.jp/pickup/6293417\n",
            "<pubdate>Tue, 14 Aug 2018 16:32:02 +0900</pubdate>\n",
            "<enclosure length=\"133\" type=\"image/gif\" url=\"https://s.yimg.jp/images/icon/photo.gif\">\n",
            "</enclosure>\n",
            "<guid ispermalink=\"false\">yahoo/news/topics/6293417</guid>\n",
            "</item>\n",
            "子の紫外線対策 やりすぎ注意 <item>\n",
            "<title>子の紫外線対策 やりすぎ注意</title>\n",
            "<link/>https://news.yahoo.co.jp/pickup/6293383\n",
            "<pubdate>Tue, 14 Aug 2018 12:41:57 +0900</pubdate>\n",
            "<enclosure length=\"133\" type=\"image/gif\" url=\"https://s.yimg.jp/images/icon/photo.gif\">\n",
            "</enclosure>\n",
            "<guid ispermalink=\"false\">yahoo/news/topics/6293383</guid>\n",
            "</item>\n",
            "帰省で気づけるか 親の認知症 <item>\n",
            "<title>帰省で気づけるか 親の認知症</title>\n",
            "<link/>https://news.yahoo.co.jp/pickup/6293267\n",
            "<pubdate>Mon, 13 Aug 2018 13:35:21 +0900</pubdate>\n",
            "<enclosure length=\"133\" type=\"image/gif\" url=\"https://s.yimg.jp/images/icon/photo.gif\">\n",
            "</enclosure>\n",
            "<guid ispermalink=\"false\">yahoo/news/topics/6293267</guid>\n",
            "</item>\n",
            "歩道に散水 五輪前に都が実験 <item>\n",
            "<title>歩道に散水 五輪前に都が実験</title>\n",
            "<link/>https://news.yahoo.co.jp/pickup/6293257\n",
            "<pubdate>Mon, 13 Aug 2018 12:36:04 +0900</pubdate>\n",
            "<enclosure length=\"133\" type=\"image/gif\" url=\"https://s.yimg.jp/images/icon/photo.gif\">\n",
            "</enclosure>\n",
            "<guid ispermalink=\"false\">yahoo/news/topics/6293257</guid>\n",
            "</item>\n"
          ],
          "name": "stdout"
        }
      ]
    },
    {
      "metadata": {
        "id": "5XNzuX8SNxyc",
        "colab_type": "text"
      },
      "cell_type": "markdown",
      "source": [
        "test"
      ]
    },
    {
      "metadata": {
        "id": "sJnELqmEN1Dr",
        "colab_type": "code",
        "colab": {
          "base_uri": "https://localhost:8080/",
          "height": 375
        },
        "outputId": "94765654-897e-4f72-8d81-c56b1c147cb0"
      },
      "cell_type": "code",
      "source": [
        "import requests\n",
        "from bs4 import BeautifulSoup\n",
        "\n",
        "target_url = 'http://news.yahoo.co.jp/pickup/science/rss.xml'\n",
        "r = requests.get(target_url)         #requestsを使って、webから取得\n",
        "soup = BeautifulSoup(r.text, 'lxml') #要素を抽出\n",
        "\n",
        "for a in soup.find_all('a'):\n",
        "      print(a.get('href'))         #リンクを表示"
      ],
      "execution_count": 5,
      "outputs": [
        {
          "output_type": "error",
          "ename": "FeatureNotFound",
          "evalue": "ignored",
          "traceback": [
            "\u001b[0;31m---------------------------------------------------------------------------\u001b[0m",
            "\u001b[0;31mFeatureNotFound\u001b[0m                           Traceback (most recent call last)",
            "\u001b[0;32m<ipython-input-5-535625acda72>\u001b[0m in \u001b[0;36m<module>\u001b[0;34m()\u001b[0m\n\u001b[1;32m      4\u001b[0m \u001b[0mtarget_url\u001b[0m \u001b[0;34m=\u001b[0m \u001b[0;34m'http://news.yahoo.co.jp/pickup/science/rss.xml'\u001b[0m\u001b[0;34m\u001b[0m\u001b[0m\n\u001b[1;32m      5\u001b[0m \u001b[0mr\u001b[0m \u001b[0;34m=\u001b[0m \u001b[0mrequests\u001b[0m\u001b[0;34m.\u001b[0m\u001b[0mget\u001b[0m\u001b[0;34m(\u001b[0m\u001b[0mtarget_url\u001b[0m\u001b[0;34m)\u001b[0m         \u001b[0;31m#requestsを使って、webから取得\u001b[0m\u001b[0;34m\u001b[0m\u001b[0m\n\u001b[0;32m----> 6\u001b[0;31m \u001b[0msoup\u001b[0m \u001b[0;34m=\u001b[0m \u001b[0mBeautifulSoup\u001b[0m\u001b[0;34m(\u001b[0m\u001b[0mr\u001b[0m\u001b[0;34m.\u001b[0m\u001b[0mtext\u001b[0m\u001b[0;34m,\u001b[0m \u001b[0;34m'lxml'\u001b[0m\u001b[0;34m)\u001b[0m \u001b[0;31m#要素を抽出\u001b[0m\u001b[0;34m\u001b[0m\u001b[0m\n\u001b[0m\u001b[1;32m      7\u001b[0m \u001b[0;34m\u001b[0m\u001b[0m\n\u001b[1;32m      8\u001b[0m \u001b[0;32mfor\u001b[0m \u001b[0ma\u001b[0m \u001b[0;32min\u001b[0m \u001b[0msoup\u001b[0m\u001b[0;34m.\u001b[0m\u001b[0mfind_all\u001b[0m\u001b[0;34m(\u001b[0m\u001b[0;34m'a'\u001b[0m\u001b[0;34m)\u001b[0m\u001b[0;34m:\u001b[0m\u001b[0;34m\u001b[0m\u001b[0m\n",
            "\u001b[0;32m/usr/local/lib/python3.6/dist-packages/bs4/__init__.py\u001b[0m in \u001b[0;36m__init__\u001b[0;34m(self, markup, features, builder, parse_only, from_encoding, exclude_encodings, **kwargs)\u001b[0m\n\u001b[1;32m    196\u001b[0m                     \u001b[0;34m\"Couldn't find a tree builder with the features you \"\u001b[0m\u001b[0;34m\u001b[0m\u001b[0m\n\u001b[1;32m    197\u001b[0m                     \u001b[0;34m\"requested: %s. Do you need to install a parser library?\"\u001b[0m\u001b[0;34m\u001b[0m\u001b[0m\n\u001b[0;32m--> 198\u001b[0;31m                     % \",\".join(features))\n\u001b[0m\u001b[1;32m    199\u001b[0m             \u001b[0mbuilder\u001b[0m \u001b[0;34m=\u001b[0m \u001b[0mbuilder_class\u001b[0m\u001b[0;34m(\u001b[0m\u001b[0;34m)\u001b[0m\u001b[0;34m\u001b[0m\u001b[0m\n\u001b[1;32m    200\u001b[0m             if not (original_features == builder.NAME or\n",
            "\u001b[0;31mFeatureNotFound\u001b[0m: Couldn't find a tree builder with the features you requested: lxml. Do you need to install a parser library?"
          ]
        }
      ]
    }
  ]
}