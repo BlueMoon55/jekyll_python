{
  "nbformat": 4,
  "nbformat_minor": 0,
  "metadata": {
    "colab": {
      "name": "matrix.ipynb",
      "version": "0.3.2",
      "provenance": []
    },
    "kernelspec": {
      "display_name": "Python 3",
      "language": "python",
      "name": "python3"
    }
  },
  "cells": [
    {
      "metadata": {
        "id": "i9knRrx0GwSf",
        "colab_type": "code",
        "colab": {}
      },
      "cell_type": "code",
      "source": [
        "import numpy as np\n",
        "mtx = np.array([[1, 2, 3],        # 3×3の行列を作成\n",
        "                [4, 5, 6],\n",
        "                [7, 8, 9]],\n",
        "               dtype = np.float)"
      ],
      "execution_count": 0,
      "outputs": []
    },
    {
      "metadata": {
        "id": "2fpxCctwGwSl",
        "colab_type": "code",
        "colab": {},
        "outputId": "86fa35ea-7edc-49ca-e930-20108f79dbe1"
      },
      "cell_type": "code",
      "source": [
        "mtx"
      ],
      "execution_count": 0,
      "outputs": [
        {
          "output_type": "execute_result",
          "data": {
            "text/plain": [
              "array([[ 1.,  2.,  3.],\n",
              "       [ 4.,  5.,  6.],\n",
              "       [ 7.,  8.,  9.]])"
            ]
          },
          "metadata": {
            "tags": []
          },
          "execution_count": 16
        }
      ]
    },
    {
      "metadata": {
        "id": "BZ1cPKltGwSq",
        "colab_type": "code",
        "colab": {},
        "outputId": "a3b1484d-acbd-4762-e34f-ab4f0ed89b2c"
      },
      "cell_type": "code",
      "source": [
        "mtx + 10  # 足し算"
      ],
      "execution_count": 0,
      "outputs": [
        {
          "output_type": "execute_result",
          "data": {
            "text/plain": [
              "array([[ 11.,  12.,  13.],\n",
              "       [ 14.,  15.,  16.],\n",
              "       [ 17.,  18.,  19.]])"
            ]
          },
          "metadata": {
            "tags": []
          },
          "execution_count": 19
        }
      ]
    },
    {
      "metadata": {
        "id": "fz-qQjd_GwSv",
        "colab_type": "code",
        "colab": {},
        "outputId": "18f95705-2cf9-4e87-8082-89b2e555fc7a"
      },
      "cell_type": "code",
      "source": [
        "mtx - 10  # 引き算"
      ],
      "execution_count": 0,
      "outputs": [
        {
          "output_type": "execute_result",
          "data": {
            "text/plain": [
              "array([[-9., -8., -7.],\n",
              "       [-6., -5., -4.],\n",
              "       [-3., -2., -1.]])"
            ]
          },
          "metadata": {
            "tags": []
          },
          "execution_count": 20
        }
      ]
    },
    {
      "metadata": {
        "id": "GOHhc2sXGwSz",
        "colab_type": "code",
        "colab": {},
        "outputId": "32bf4994-b52d-4240-edfe-c920adba0013"
      },
      "cell_type": "code",
      "source": [
        "mtx * 2  # 乗算"
      ],
      "execution_count": 0,
      "outputs": [
        {
          "output_type": "execute_result",
          "data": {
            "text/plain": [
              "array([[ 0.5,  1. ,  1.5],\n",
              "       [ 2. ,  2.5,  3. ],\n",
              "       [ 3.5,  4. ,  4.5]])"
            ]
          },
          "metadata": {
            "tags": []
          },
          "execution_count": 7
        }
      ]
    },
    {
      "metadata": {
        "id": "AGBnzHUhGwS3",
        "colab_type": "code",
        "colab": {},
        "outputId": "06bcdb8f-6dc6-44e0-a25f-0d3bd376568b"
      },
      "cell_type": "code",
      "source": [
        "mtx / 2   # 除算"
      ],
      "execution_count": 0,
      "outputs": [
        {
          "output_type": "execute_result",
          "data": {
            "text/plain": [
              "array([[ 0.5,  1. ,  1.5],\n",
              "       [ 2. ,  2.5,  3. ],\n",
              "       [ 3.5,  4. ,  4.5]])"
            ]
          },
          "metadata": {
            "tags": []
          },
          "execution_count": 17
        }
      ]
    },
    {
      "metadata": {
        "id": "WqGtwv27GwS8",
        "colab_type": "code",
        "colab": {},
        "outputId": "1b3c53aa-2152-454e-8a15-0b5ccd60e106"
      },
      "cell_type": "code",
      "source": [
        "mtx % 2   # 剰余"
      ],
      "execution_count": 0,
      "outputs": [
        {
          "output_type": "execute_result",
          "data": {
            "text/plain": [
              "array([[ 1.,  0.,  1.],\n",
              "       [ 0.,  1.,  0.],\n",
              "       [ 1.,  0.,  1.]])"
            ]
          },
          "metadata": {
            "tags": []
          },
          "execution_count": 21
        }
      ]
    },
    {
      "metadata": {
        "id": "PwcWuY6FGwTA",
        "colab_type": "code",
        "colab": {}
      },
      "cell_type": "code",
      "source": [
        ""
      ],
      "execution_count": 0,
      "outputs": []
    }
  ]
}